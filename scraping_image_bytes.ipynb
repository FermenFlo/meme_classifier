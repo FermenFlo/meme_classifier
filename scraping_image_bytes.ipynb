{
 "cells": [
  {
   "cell_type": "code",
   "execution_count": 12,
   "metadata": {},
   "outputs": [],
   "source": [
    "import requests\n",
    "from io import BytesIO\n",
    "from bs4 import BeautifulSoup\n",
    "import pandas as pd\n",
    "from PIL import Image\n",
    "import time\n",
    "import os\n",
    "import numpy as np\n",
    "\n",
    "pd.set_option('max_columns', 100)\n",
    "pd.set_option('max_rows', 100)"
   ]
  },
  {
   "cell_type": "code",
   "execution_count": 2,
   "metadata": {
    "scrolled": true
   },
   "outputs": [
    {
     "data": {
      "text/html": [
       "<div>\n",
       "<style scoped>\n",
       "    .dataframe tbody tr th:only-of-type {\n",
       "        vertical-align: middle;\n",
       "    }\n",
       "\n",
       "    .dataframe tbody tr th {\n",
       "        vertical-align: top;\n",
       "    }\n",
       "\n",
       "    .dataframe thead th {\n",
       "        text-align: right;\n",
       "    }\n",
       "</style>\n",
       "<table border=\"1\" class=\"dataframe\">\n",
       "  <thead>\n",
       "    <tr style=\"text-align: right;\">\n",
       "      <th></th>\n",
       "      <th>meme_id</th>\n",
       "      <th>data_id</th>\n",
       "      <th>rating</th>\n",
       "      <th>template</th>\n",
       "      <th>week</th>\n",
       "    </tr>\n",
       "  </thead>\n",
       "  <tbody>\n",
       "    <tr>\n",
       "      <th>0</th>\n",
       "      <td>353mvs</td>\n",
       "      <td>189966232</td>\n",
       "      <td>2</td>\n",
       "      <td>Emma Watson Troll</td>\n",
       "      <td>2011-9-3</td>\n",
       "    </tr>\n",
       "    <tr>\n",
       "      <th>1</th>\n",
       "      <td>353mw1</td>\n",
       "      <td>189966241</td>\n",
       "      <td>3</td>\n",
       "      <td>Emma Watson Troll</td>\n",
       "      <td>2011-9-3</td>\n",
       "    </tr>\n",
       "    <tr>\n",
       "      <th>2</th>\n",
       "      <td>353mw5</td>\n",
       "      <td>189966245</td>\n",
       "      <td>445</td>\n",
       "      <td>The Most Interesting Man In The World</td>\n",
       "      <td>2011-9-3</td>\n",
       "    </tr>\n",
       "    <tr>\n",
       "      <th>3</th>\n",
       "      <td>353mxa</td>\n",
       "      <td>189966286</td>\n",
       "      <td>39</td>\n",
       "      <td>Irrational Shaggy</td>\n",
       "      <td>2011-9-3</td>\n",
       "    </tr>\n",
       "    <tr>\n",
       "      <th>4</th>\n",
       "      <td>353my8</td>\n",
       "      <td>189966320</td>\n",
       "      <td>1383</td>\n",
       "      <td>Redditors Wife</td>\n",
       "      <td>2011-9-3</td>\n",
       "    </tr>\n",
       "  </tbody>\n",
       "</table>\n",
       "</div>"
      ],
      "text/plain": [
       "  meme_id    data_id  rating                               template      week\n",
       "0  353mvs  189966232       2                      Emma Watson Troll  2011-9-3\n",
       "1  353mw1  189966241       3                      Emma Watson Troll  2011-9-3\n",
       "2  353mw5  189966245     445  The Most Interesting Man In The World  2011-9-3\n",
       "3  353mxa  189966286      39                      Irrational Shaggy  2011-9-3\n",
       "4  353my8  189966320    1383                         Redditors Wife  2011-9-3"
      ]
     },
     "execution_count": 2,
     "metadata": {},
     "output_type": "execute_result"
    }
   ],
   "source": [
    "df = pd.read_csv('memes_total_time.csv', sep = '\\t', header = -1)\n",
    "df.columns = ['meme_id', 'data_id', 'rating', 'template', 'week']\n",
    "df.head()"
   ]
  },
  {
   "cell_type": "code",
   "execution_count": 3,
   "metadata": {},
   "outputs": [
    {
     "name": "stdout",
     "output_type": "stream",
     "text": [
      "removed 4450 duplicates\n"
     ]
    }
   ],
   "source": [
    "# Made the decision here to aggregate by meme_id making it a UID\n",
    "# Decision was supported by the fact that most non_unique meme_id's were\n",
    "# 100% duplicates.\n",
    "old_len = len(df.index)\n",
    "df = df.groupby('meme_id').agg('first').reset_index()\n",
    "df.head()\n",
    "\n",
    "num_duplicates = old_len - len(df.index)\n",
    "print(f'removed {num_duplicates} duplicates')"
   ]
  },
  {
   "cell_type": "code",
   "execution_count": 4,
   "metadata": {},
   "outputs": [],
   "source": [
    "def scrape_image(meme_id):\n",
    "    url =  'http://i.qkme.me/' + meme_id + '.jpg'\n",
    "    \n",
    "    try:\n",
    "        req = requests.get(url)\n",
    "        image = Image.open(BytesIO(req.content))\n",
    "        image.save('IMAGES/' + meme_id + '.jpg', 'jpeg')\n",
    "    \n",
    "    except:\n",
    "        pass"
   ]
  },
  {
   "cell_type": "code",
   "execution_count": 50,
   "metadata": {},
   "outputs": [],
   "source": [
    "saved_memes = [x.replace('.jpg', '') for x in \n",
    "               os.listdir(os.path.join(os.getcwd(), 'IMAGES'))]"
   ]
  },
  {
   "cell_type": "code",
   "execution_count": 57,
   "metadata": {},
   "outputs": [
    {
     "name": "stdout",
     "output_type": "stream",
     "text": [
      "removed 4450 dead links\n"
     ]
    }
   ],
   "source": [
    "old_len = len(df.index)\n",
    "\n",
    "df = df.loc[df['meme_id'].isin(saved_memes)]\n",
    "\n",
    "num_dead_links = old_len - len(df.index)\n",
    "print(f'removed {num_duplicates} dead links')"
   ]
  }
 ],
 "metadata": {
  "kernelspec": {
   "display_name": "Python 3",
   "language": "python",
   "name": "python3"
  },
  "language_info": {
   "codemirror_mode": {
    "name": "ipython",
    "version": 3
   },
   "file_extension": ".py",
   "mimetype": "text/x-python",
   "name": "python",
   "nbconvert_exporter": "python",
   "pygments_lexer": "ipython3",
   "version": "3.7.3"
  }
 },
 "nbformat": 4,
 "nbformat_minor": 2
}
